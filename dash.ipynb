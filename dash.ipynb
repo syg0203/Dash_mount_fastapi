{
 "cells": [
  {
   "cell_type": "code",
   "execution_count": null,
   "id": "c8e9e877",
   "metadata": {},
   "outputs": [],
   "source": [
    "import dash\n",
    "import dash_core_components as dcc\n",
    "import dash_html_components as html\n",
    "import plotly.graph_objs as go\n",
    "import pandas as pd\n",
    "\n",
    "# Launch the application:\n",
    "app = dash.Dash()\n",
    "\n",
    "# Create a DataFrame from the .csv file:\n",
    "df = pd.read_csv('../data/OldFaithful.csv')\n",
    "\n",
    "# Create a Dash layout that contains a Graph component:\n",
    "app.layout = html.Div([\n",
    "    dcc.Graph(\n",
    "        id='old_faithful',\n",
    "        figure={\n",
    "            'data': [\n",
    "                go.Scatter(\n",
    "                    x = df['X'],\n",
    "                    y = df['Y'],\n",
    "                    mode = 'markers'\n",
    "                )\n",
    "            ],\n",
    "            'layout': go.Layout(\n",
    "                title = 'Old Faithful Eruption Intervals v Durations',\n",
    "                xaxis = {'title': 'Duration of eruption (minutes)'},\n",
    "                yaxis = {'title': 'Interval to next eruption (minutes)'},\n",
    "                hovermode='closest'\n",
    "            )\n",
    "        }\n",
    "    )\n",
    "])\n",
    "\n",
    "# Add the server clause:\n",
    "if __name__ == '__main__':\n",
    "    app.run_server()"
   ]
  }
 ],
 "metadata": {
  "kernelspec": {
   "display_name": "Python 3 (ipykernel)",
   "language": "python",
   "name": "python3"
  },
  "language_info": {
   "codemirror_mode": {
    "name": "ipython",
    "version": 3
   },
   "file_extension": ".py",
   "mimetype": "text/x-python",
   "name": "python",
   "nbconvert_exporter": "python",
   "pygments_lexer": "ipython3",
   "version": "3.9.17"
  }
 },
 "nbformat": 4,
 "nbformat_minor": 5
}
